{
  "cells": [
    {
      "cell_type": "code",
      "execution_count": 1,
      "metadata": {
        "colab": {
          "base_uri": "https://localhost:8080/"
        },
        "id": "n-Bk0ZkbStAl",
        "outputId": "d803f99f-0a7a-41f2-ae8d-cc0895bd35c6"
      },
      "outputs": [
        {
          "output_type": "stream",
          "name": "stdout",
          "text": [
            "Looking in indexes: https://pypi.org/simple, https://us-python.pkg.dev/colab-wheels/public/simple/\n",
            "Requirement already satisfied: pyspark in /usr/local/lib/python3.10/dist-packages (3.4.1)\n",
            "Requirement already satisfied: py4j==0.10.9.7 in /usr/local/lib/python3.10/dist-packages (from pyspark) (0.10.9.7)\n"
          ]
        }
      ],
      "source": [
        "!pip install pyspark"
      ]
    },
    {
      "cell_type": "code",
      "source": [
        "from pyspark import SparkContext\n",
        "\n",
        "# Crear el contexto de Spark\n",
        "sc = SparkContext(\"local\", \"PageRank\")\n",
        "\n",
        "# Paso 1: Preparar RDD con el Page Rank inicial\n",
        "nodes = [1, 2, 3, 4, 5, 6]\n",
        "edges = [(1, 2), (2, 3), (2, 4), (3, 2), (4, 5), (4, 6), (5, 1), (6, 3)]\n",
        "\n",
        "# Valor de damping factor\n",
        "damping_factor = 0.85\n",
        "\n",
        "# Crear RDD con los nodos y sus Page Ranks iniciales\n",
        "initial_ranks = sc.parallelize([(node, 1/len(nodes)) for node in nodes])\n",
        "\n",
        "# Convertir la lista de aristas en un RDD\n",
        "edges_rdd = sc.parallelize(edges)\n",
        "\n",
        "\n",
        "# Paso 2: Función para el intercambio de mensajes entre nodos\n",
        "def send_messages(vecinos):\n",
        "    num_neighbors = len(vecinos)\n",
        "    messages = []\n",
        "    if num_neighbors > 0:\n",
        "        for rank, neighbor in vecinos:\n",
        "            rank_per_neighbor = rank / num_neighbors\n",
        "            messages.append((neighbor, rank_per_neighbor))\n",
        "    return messages\n",
        "\n",
        "# Función para realizar el merge de los mensajes recibidos por cada nodo\n",
        "def merge_messages(rank1, rank2):\n",
        "    return rank1 + rank2\n",
        "\n",
        "# Paso 3: Función para actualizar el valor de Page Rank para cada nodo\n",
        "def update_rank(node, message):\n",
        "    rank = (1 - damping_factor) / len(nodes)\n",
        "    print(rank)\n",
        "    print(node, rank + damping_factor * message)\n",
        "    return (node, rank + damping_factor * message)"
      ],
      "metadata": {
        "id": "RdcPl3ujJ88L"
      },
      "execution_count": 6,
      "outputs": []
    },
    {
      "cell_type": "code",
      "source": [
        "# Paso 4: Iterar los pasos anteriores por un número máximo de iteraciones o hasta convergencia\n",
        "max_iterations = 2\n",
        "convergence_threshold = 0.001\n",
        "\n",
        "ranks = initial_ranks # [(1, 0.25), (2, 0.25), (3, 0.25), (4, 0.25)]\n",
        "\n",
        "for iteration in range(max_iterations):\n",
        "    # Paso 2: Enviar mensajes y hacer el merge\n",
        "    messages = ranks.join(edges_rdd).groupByKey().flatMap(lambda x: (send_messages(x[1]))) # [(3, 0.125), (4, 0.125), (2, 0.25), (2, 0.25)]\n",
        "    received_messages = messages.reduceByKey(merge_messages) # [(4, 0.125), (2, 0.5), (3, 0.125)]\n",
        "    # Paso 3: Actualizar el valor de Page Rank\n",
        "    fixed_ranks = ranks.leftOuterJoin(received_messages).map(lambda x: (x[0], x[1][0] if x[1][0] is not None else 0, x[1][1] if x[1][1] is not None else 0)) # [(3, 0.25, 0.125), (1, 0.25, 0), (4, 0.25, 0.125), (2, 0.25, 0.5)]\n",
        "    new_ranks = fixed_ranks.map(lambda x: update_rank(x[0], x[2])) # [(3, 0.14375), (1, 0.037500000000000006), (4, 0.14375), (2, 0.4625)]\n",
        "    # Verificar convergencia\n",
        "    rank_diff = new_ranks.join(ranks).map(lambda x: abs(x[1][0] - x[1][1])).reduce(lambda x, y: x + y)\n",
        "    if rank_diff < convergence_threshold:\n",
        "        break\n",
        "\n",
        "    ranks = new_ranks\n",
        "\n",
        "# Imprimir los resultados\n",
        "result = ranks.collect()\n",
        "for node, rank in result:\n",
        "    print(f\"Node {node}: Page Rank = {rank}\")\n",
        "\n",
        "# Detener el contexto de Spark\n",
        "sc.stop()\n"
      ],
      "metadata": {
        "id": "PQqpO664XDTc",
        "outputId": "1780d2ee-ee2c-4fa9-d004-028b0c635773",
        "colab": {
          "base_uri": "https://localhost:8080/"
        }
      },
      "execution_count": 7,
      "outputs": [
        {
          "output_type": "stream",
          "name": "stdout",
          "text": [
            "Node 1: Page Rank = 0.10645833333333335\n",
            "Node 2: Page Rank = 0.3685416666666667\n",
            "Node 3: Page Rank = 0.2375\n",
            "Node 4: Page Rank = 0.15604166666666666\n",
            "Node 5: Page Rank = 0.06572916666666667\n",
            "Node 6: Page Rank = 0.06572916666666667\n"
          ]
        }
      ]
    },
    {
      "cell_type": "code",
      "source": [],
      "metadata": {
        "id": "wos1CEVzTDKM"
      },
      "execution_count": 3,
      "outputs": []
    },
    {
      "cell_type": "code",
      "source": [],
      "metadata": {
        "id": "2eUE6qOBTDbB"
      },
      "execution_count": 3,
      "outputs": []
    },
    {
      "cell_type": "code",
      "source": [],
      "metadata": {
        "id": "VxliKaPCTDeU"
      },
      "execution_count": 3,
      "outputs": []
    },
    {
      "cell_type": "code",
      "source": [],
      "metadata": {
        "id": "z8loAAnVTDho"
      },
      "execution_count": 3,
      "outputs": []
    },
    {
      "cell_type": "code",
      "source": [],
      "metadata": {
        "id": "IPZXzYJ6TDkv"
      },
      "execution_count": 3,
      "outputs": []
    },
    {
      "cell_type": "code",
      "source": [],
      "metadata": {
        "id": "QmB5czZ0TDo9"
      },
      "execution_count": 3,
      "outputs": []
    }
  ],
  "metadata": {
    "language_info": {
      "name": "python"
    },
    "orig_nbformat": 4,
    "colab": {
      "provenance": []
    },
    "kernelspec": {
      "name": "python3",
      "display_name": "Python 3"
    }
  },
  "nbformat": 4,
  "nbformat_minor": 0
}