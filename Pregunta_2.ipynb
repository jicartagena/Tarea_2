{
  "nbformat": 4,
  "nbformat_minor": 0,
  "metadata": {
    "colab": {
      "provenance": []
    },
    "kernelspec": {
      "name": "python3",
      "display_name": "Python 3"
    },
    "language_info": {
      "name": "python"
    }
  },
  "cells": [
    {
      "cell_type": "code",
      "execution_count": 1,
      "metadata": {
        "colab": {
          "base_uri": "https://localhost:8080/"
        },
        "id": "p6mnRa0P5BWq",
        "outputId": "9490f0da-6208-4737-9912-55ed84e4ab46"
      },
      "outputs": [
        {
          "output_type": "stream",
          "name": "stdout",
          "text": [
            "Requirement already satisfied: pyspark in /usr/local/lib/python3.10/dist-packages (3.4.1)\n",
            "Requirement already satisfied: py4j==0.10.9.7 in /usr/local/lib/python3.10/dist-packages (from pyspark) (0.10.9.7)\n"
          ]
        }
      ],
      "source": [
        "!pip install pyspark"
      ]
    },
    {
      "cell_type": "code",
      "source": [
        "from pyspark import SparkContext\n",
        "\n",
        "# Crear el contexto de Spark\n",
        "sc = SparkContext(\"local\", \"ShortestPath\")\n",
        "\n",
        "# Definir la función para enviar mensajes entre nodos\n",
        "def enviar(vecinos):\n",
        "    mensaje = []\n",
        "    for vecino in vecinos:\n",
        "        mensaje.append((vecino[1][0] , vecino[0] + vecino[1][1]))\n",
        "    return mensaje\n",
        "\n",
        "# [(2, [(inf, (3, 3)), (inf, (4, 24))]), (4, [(inf, (5, 5)), (inf, (6, 2))]), (1, [(0, (2, 10))]), (3, [(inf, (2, 1))]), (5, [(inf, (6, 7))])]\n",
        "\n",
        "# Definir la función para realizar el merge de los mensajes recibidos por cada nodo\n",
        "def unir(cost1, cost2):\n",
        "    return min(cost1, cost2)\n",
        "\n",
        "# Definir la función para actualizar el costo asociado a cada nodo\n",
        "def actualizar(nodo, mensaje):\n",
        "    return (nodo, mensaje)\n",
        "\n",
        "# Definir la función para verificar si el costo de los nodos ha convergido\n",
        "def convergencia(nuevo_costo, viejo_costo):\n",
        "    return nuevo_costo.join(viejo_costo).mapValues(lambda x: x[0] == x[1]).values().reduce(lambda x, y: x and y)\n",
        "\n",
        "# Definir la función para encontrar el camino más corto desde el nodo inicial\n",
        "def sssp(nodos, aristas, nodo_inicial):\n",
        "    # Crear RDD con los nodos y sus costos iniciales\n",
        "    costo_inicial = float(\"inf\")\n",
        "    costos_iniciales = sc.parallelize([(nodo, costo_inicial) if nodo != nodo_inicial else (nodo, 0) for nodo in nodos])\n",
        "\n",
        "    # Convertir la lista de aristas en un RDD\n",
        "    aristas_rdd = sc.parallelize(aristas).map(lambda x: (x[0], (x[1], x[2])))\n",
        "\n",
        "    # Inicializar los valores de los costos\n",
        "    viejo_costo = costos_iniciales\n",
        "    nuevo_costo = costos_iniciales\n",
        "\n",
        "    iteracion = 0\n",
        "\n",
        "    while iteracion < 2:\n",
        "        # Enviar mensajes y hacer el merge\n",
        "        mensajes = nuevo_costo.join(aristas_rdd).groupByKey().flatMapValues(enviar).map(lambda x: x[1]) # [(3, inf), (4, inf), (5, inf), (6, inf), (2, 10), (2, inf), (6, inf)]\n",
        "\n",
        "        mensaje_recibido = mensajes.reduceByKey(unir) # [(4, inf), (6, inf), (2, 10), (3, inf), (5, inf)]\n",
        "\n",
        "        # Actualizar los costos\n",
        "        nuevo_costo = nuevo_costo.leftOuterJoin(mensaje_recibido).mapValues(lambda x: 0 if x[1] is None else x[1]) # [(3, (inf, 4)), (6, inf), (1, (0, 4)), (4, (inf, 10)), (2, (inf, 6)), (5, (inf, 12))]\n",
        "\n",
        "        if convergencia(nuevo_costo, viejo_costo):\n",
        "          iteracion += 1\n",
        "\n",
        "        # Actualizar los valores de los costos antiguos\n",
        "        viejo_costo = nuevo_costo\n",
        "\n",
        "    return nuevo_costo.collect()\n",
        "\n",
        "# Definir los nodos y aristas del grafo\n",
        "nodos = [1, 2, 3, 4, 5, 6]\n",
        "aristas = [(1, 2, 10), (2, 3, 3), (2, 4, 24), (3, 2, 1), (4, 5, 5), (4, 6, 2), (5, 6, 7)]\n",
        "\n",
        "# Definir el nodo inicial\n",
        "nodo_inicial = 1\n",
        "\n",
        "# Encontrar el camino más corto desde el nodo inicial\n",
        "resultado = sssp(nodos, aristas, nodo_inicial)\n",
        "\n",
        "# Imprimir los resultadoados\n",
        "for nodo, cost in resultado:\n",
        "    print(f\"Nodo {nodo}: Costo = {cost}\")\n",
        "\n",
        "# Detener el contexto de Spark\n",
        "sc.stop()\n"
      ],
      "metadata": {
        "colab": {
          "base_uri": "https://localhost:8080/"
        },
        "id": "8f0weq1C5D-r",
        "outputId": "b33f96b6-e83b-4d46-f3d1-d45de314ae7f"
      },
      "execution_count": 8,
      "outputs": [
        {
          "output_type": "stream",
          "name": "stdout",
          "text": [
            "0\n",
            "[(3, inf), (6, inf), (1, 0), (4, inf), (2, 10), (5, inf)]\n",
            "0\n",
            "[(1, 0), (2, 10), (3, 13), (4, 34), (5, inf), (6, inf)]\n",
            "0\n",
            "[(1, 0), (2, 10), (3, 13), (4, 34), (5, 39), (6, 36)]\n",
            "1\n",
            "[(1, 0), (2, 10), (3, 13), (4, 34), (5, 39), (6, 36)]\n",
            "2\n",
            "[(1, 0), (2, 10), (3, 13), (4, 34), (5, 39), (6, 36)]\n",
            "Nodo 1: Costo = 0\n",
            "Nodo 2: Costo = 10\n",
            "Nodo 3: Costo = 13\n",
            "Nodo 4: Costo = 34\n",
            "Nodo 5: Costo = 39\n",
            "Nodo 6: Costo = 36\n"
          ]
        }
      ]
    },
    {
      "cell_type": "code",
      "source": [],
      "metadata": {
        "id": "Ay1xmz9h5EkX"
      },
      "execution_count": null,
      "outputs": []
    },
    {
      "cell_type": "code",
      "source": [],
      "metadata": {
        "id": "UwdFZr3m5EnH"
      },
      "execution_count": null,
      "outputs": []
    },
    {
      "cell_type": "code",
      "source": [],
      "metadata": {
        "id": "fnmaja8H5Ep6"
      },
      "execution_count": null,
      "outputs": []
    }
  ]
}